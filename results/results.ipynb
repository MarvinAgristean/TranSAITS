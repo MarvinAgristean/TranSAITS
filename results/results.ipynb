{
 "cells": [
  {
   "cell_type": "code",
   "execution_count": 1,
   "outputs": [],
   "source": [
    "import torch"
   ],
   "metadata": {
    "collapsed": false,
    "pycharm": {
     "name": "#%%\n"
    }
   }
  },
  {
   "cell_type": "code",
   "execution_count": 2,
   "outputs": [],
   "source": [
    "def evaluate(model_list, data, name):\n",
    "    print('Evaluation of ', name, ':')\n",
    "    num_data = data['train_set'].size(0) + data['test_set'].size(0) + data['validation_set'].size(0)\n",
    "    print('Number of time series: ', num_data)\n",
    "    # requires missing_mask to respect indicated values\n",
    "    missing_rate = (torch.sum(data['missing_mask_train']-data['indicating_mask_train'])+torch.sum(data['missing_mask_test']-data['indicating_mask_test'])+ torch.sum(data['missing_mask_validation']-data['indicating_mask_validation']) ) / num_data\n",
    "    print('Missingrate: ', missing_rate.item())\n",
    "    print('Performance on the validation set in MAE/RMSE/MRE')\n",
    "    for model, description in model_list:\n",
    "        if description != '':\n",
    "            print('Class:', type(model['model']).__name__,', ',description, ': ', model['validation_MAE'].item(), '/', model['validation_RMSE'].item(), '/', model['validation_MRE'].item())\n",
    "        else:\n",
    "            print('Class:', type(model['model']).__name__, ': ', model['validation_MAE'].item(), '/', model['validation_RMSE'].item(), '/', model['validation_MRE'].item())"
   ],
   "metadata": {
    "collapsed": false,
    "pycharm": {
     "name": "#%%\n"
    }
   }
  },
  {
   "cell_type": "markdown",
   "source": [
    "# All ICU stays"
   ],
   "metadata": {
    "collapsed": false,
    "pycharm": {
     "name": "#%% md\n"
    }
   }
  },
  {
   "cell_type": "markdown",
   "source": [
    "## First Four Features"
   ],
   "metadata": {
    "collapsed": false,
    "pycharm": {
     "name": "#%% md\n"
    }
   }
  },
  {
   "cell_type": "code",
   "execution_count": 3,
   "outputs": [
    {
     "name": "stdout",
     "output_type": "stream",
     "text": [
      "Evaluation of  All ICU First Four Features :\n",
      "Number of time series:  52485\n",
      "Missingrate:  71.45529174804688\n",
      "Performance on the validation set in MAE/RMSE/MRE\n",
      "Class: mean_imputation ,  trainable :  0.2124251425266266 / 0.521964430809021 / 0.9997206926345825\n",
      "Class: mean_imputation ,  no training :  0.12367819249629974 / 0.35020026564598083 / 0.5820574760437012\n",
      "Class: median_imputation :  0.2120443880558014 / 0.5228747725486755 / 0.9979287385940552\n",
      "Class: BRITS :  0.07493461668491364 / 0.32125821709632874 / 0.3526591956615448\n"
     ]
    }
   ],
   "source": [
    "data = torch.load(r'C:\\Users\\DHLD\\Desktop\\Imputation\\data-imputation-icu\\Data\\storage\\data_all_ICU_first_four_features_shuffled')\n",
    "model_list = [\n",
    "    (torch.load(r'C:\\Users\\DHLD\\Desktop\\Imputation\\data-imputation-icu\\Baseline_Methods\\mean_imputation_trainable_all_ICU_first_four_features_shuffled'),'trainable'),\n",
    "    (torch.load(r'C:\\Users\\DHLD\\Desktop\\Imputation\\data-imputation-icu\\Baseline_Methods\\mean_imputation_no_training_all_ICU_first_four_features_shuffled'),'no training'),\n",
    "    (torch.load(r'C:\\Users\\DHLD\\Desktop\\Imputation\\data-imputation-icu\\Baseline_Methods\\median_imputation_all_ICU_first_four_features_shuffled'),''),\n",
    "    (torch.load(r'C:\\Users\\DHLD\\Desktop\\Imputation\\data-imputation-icu\\BRITS\\BRITS_model_all_ICU_first_four_features_shuffled_best'),''),\n",
    "    (torch.load())\n",
    "]\n",
    "evaluate(model_list, data, 'All ICU First Four Features')"
   ],
   "metadata": {
    "collapsed": false,
    "pycharm": {
     "name": "#%%\n"
    }
   }
  },
  {
   "cell_type": "markdown",
   "source": [
    "# Only Heart Stays"
   ],
   "metadata": {
    "collapsed": false,
    "pycharm": {
     "name": "#%% md\n"
    }
   }
  },
  {
   "cell_type": "markdown",
   "source": [
    "## First Four Features"
   ],
   "metadata": {
    "collapsed": false,
    "pycharm": {
     "name": "#%% md\n"
    }
   }
  },
  {
   "cell_type": "code",
   "execution_count": 6,
   "outputs": [
    {
     "name": "stdout",
     "output_type": "stream",
     "text": [
      "Evaluation of  Only Heart First Four Features :\n",
      "Number of time series:  16565\n",
      "Missingrate:  70.72827911376953\n",
      "Performance on the validation set in MAE/RMSE/MRE\n",
      "Class: mean_imputation ,  trainable :  0.46084338426589966 / 1.1290055513381958 / 1.00058913230896\n",
      "Class: mean_imputation ,  no training :  0.31481602787971497 / 1.0003963708877563 / 0.6835326552391052\n",
      "Class: median_imputation :  0.4583668112754822 / 1.1305036544799805 / 0.9952119588851929\n",
      "Class: BRITS :  0.07575198262929916 / 0.3185311555862427 / 0.3565059006214142\n",
      "Class: SAITS :  0.22318178415298462 / 0.9681379795074463 / 0.48457515239715576\n"
     ]
    }
   ],
   "source": [
    "data = torch.load(r'C:\\Users\\DHLD\\Desktop\\Imputation\\data-imputation-icu\\Data\\storage\\data_only_heart_first_four_features_shuffled')\n",
    "model_list = [\n",
    "    (torch.load(r'C:\\Users\\DHLD\\Desktop\\Imputation\\data-imputation-icu\\Baseline_Methods\\mean_imputation_trainable_only_heart_first_four_features_shuffled'),'trainable'),\n",
    "    (torch.load(r'C:\\Users\\DHLD\\Desktop\\Imputation\\data-imputation-icu\\Baseline_Methods\\mean_imputation_no_training_only_heart_first_four_features_shuffled'),'no training'),\n",
    "    (torch.load(r'C:\\Users\\DHLD\\Desktop\\Imputation\\data-imputation-icu\\Baseline_Methods\\median_imputation_only_heart_first_four_features_shuffled'),''),\n",
    "    (torch.load(r'C:\\Users\\DHLD\\Desktop\\Imputation\\data-imputation-icu\\BRITS\\BRITS_model_only_heart_first_four_features_shuffled'),''),\n",
    "    (torch.load(r'C:\\Users\\DHLD\\Desktop\\Imputation\\data-imputation-icu\\SAITS\\SAITS_model_only_heart_first_four_features_shuffled'),'')\n",
    "]\n",
    "evaluate(model_list, data, 'Only Heart First Four Features')"
   ],
   "metadata": {
    "collapsed": false,
    "pycharm": {
     "name": "#%%\n"
    }
   }
  },
  {
   "cell_type": "code",
   "execution_count": null,
   "outputs": [],
   "source": [],
   "metadata": {
    "collapsed": false,
    "pycharm": {
     "name": "#%%\n"
    }
   }
  }
 ],
 "metadata": {
  "kernelspec": {
   "display_name": "Python 3",
   "language": "python",
   "name": "python3"
  },
  "language_info": {
   "codemirror_mode": {
    "name": "ipython",
    "version": 2
   },
   "file_extension": ".py",
   "mimetype": "text/x-python",
   "name": "python",
   "nbconvert_exporter": "python",
   "pygments_lexer": "ipython2",
   "version": "2.7.6"
  }
 },
 "nbformat": 4,
 "nbformat_minor": 0
}