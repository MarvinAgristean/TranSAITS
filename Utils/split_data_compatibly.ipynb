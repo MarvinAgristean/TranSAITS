{
 "cells": [
  {
   "cell_type": "code",
   "execution_count": 3,
   "outputs": [],
   "source": [
    "import numpy as np\n",
    "import dill\n",
    "import torch\n",
    "from Utils.masking_service import make_missing_mask, make_indicating_mask"
   ],
   "metadata": {
    "collapsed": false,
    "pycharm": {
     "name": "#%%\n"
    }
   }
  },
  {
   "cell_type": "code",
   "execution_count": 6,
   "outputs": [],
   "source": [
    "data = np.load('data_split.npy', allow_pickle=True)"
   ],
   "metadata": {
    "collapsed": false,
    "pycharm": {
     "name": "#%%\n"
    }
   }
  },
  {
   "cell_type": "code",
   "execution_count": 7,
   "outputs": [
    {
     "data": {
      "text/plain": "array([[[         nan,          nan,          nan, ...,          nan,\n                  nan,          nan],\n        [         nan,          nan,          nan, ...,          nan,\n                  nan,          nan],\n        [         nan,          nan,          nan, ...,          nan,\n                  nan,          nan],\n        ...,\n        [         nan,          nan,          nan, ...,          nan,\n                  nan,          nan],\n        [         nan,          nan,          nan, ...,          nan,\n                  nan,          nan],\n        [         nan,          nan,          nan, ...,          nan,\n                  nan,          nan]],\n\n       [[ 37.5       ,  36.88890076,          nan, ...,          nan,\n                  nan,          nan],\n        [         nan,          nan,          nan, ...,          nan,\n                  nan,          nan],\n        [         nan,          nan,          nan, ...,          nan,\n                  nan,          nan],\n        ...,\n        [         nan,          nan,          nan, ...,          nan,\n                  nan,          nan],\n        [         nan,          nan,          nan, ...,          nan,\n                  nan,          nan],\n        [         nan,          nan,          nan, ...,          nan,\n                  nan,          nan]],\n\n       [[         nan,          nan,          nan, ...,          nan,\n                  nan,          nan],\n        [105.        , 100.        ,  90.75      , ...,          nan,\n                  nan,          nan],\n        [ 82.        ,  66.        ,  69.        , ...,          nan,\n                  nan,          nan],\n        ...,\n        [         nan,          nan,          nan, ...,          nan,\n                  nan,          nan],\n        [         nan,          nan,          nan, ...,          nan,\n                  nan,          nan],\n        [         nan,          nan,          nan, ...,          nan,\n                  nan,          nan]],\n\n       ...,\n\n       [[ 38.        ,          nan,  37.94440079, ...,          nan,\n          37.        ,  37.88890076],\n        [         nan,          nan,          nan, ...,          nan,\n                  nan,          nan],\n        [         nan,          nan,          nan, ...,          nan,\n                  nan,          nan],\n        ...,\n        [         nan,   4.        ,          nan, ...,          nan,\n                  nan,          nan],\n        [         nan,  28.6       ,          nan, ...,          nan,\n                  nan,          nan],\n        [         nan,  31.        ,          nan, ...,          nan,\n                  nan,          nan]],\n\n       [[ 37.61109924,          nan,          nan, ...,  36.55559921,\n                  nan,          nan],\n        [         nan, 150.        , 143.5       , ...,          nan,\n                  nan,          nan],\n        [         nan,          nan,          nan, ...,          nan,\n                  nan,          nan],\n        ...,\n        [         nan,          nan,          nan, ...,          nan,\n                  nan,          nan],\n        [         nan,          nan,          nan, ...,          nan,\n                  nan,          nan],\n        [         nan,          nan,          nan, ...,          nan,\n                  nan,          nan]],\n\n       [[         nan,          nan,          nan, ...,          nan,\n                  nan,          nan],\n        [136.        , 149.5       , 138.        , ...,          nan,\n                  nan,          nan],\n        [ 65.5       ,  69.        ,  65.        , ...,          nan,\n                  nan,          nan],\n        ...,\n        [  4.4       ,          nan,          nan, ...,          nan,\n                  nan,          nan],\n        [ 32.5       ,          nan,          nan, ...,          nan,\n                  nan,          nan],\n        [ 22.        ,          nan,          nan, ...,          nan,\n                  nan,          nan]]])"
     },
     "execution_count": 7,
     "metadata": {},
     "output_type": "execute_result"
    }
   ],
   "source": [
    "data[()]['heart']"
   ],
   "metadata": {
    "collapsed": false,
    "pycharm": {
     "name": "#%%\n"
    }
   }
  },
  {
   "cell_type": "code",
   "execution_count": 22,
   "outputs": [],
   "source": [
    "heart_data_raw = data[()]['heart']\n",
    "no_heart_data_raw = data[()]['no_heart']"
   ],
   "metadata": {
    "collapsed": false,
    "pycharm": {
     "name": "#%%\n"
    }
   }
  },
  {
   "cell_type": "code",
   "execution_count": 23,
   "outputs": [
    {
     "data": {
      "text/plain": "((16054, 10, 48), (36847, 10, 48))"
     },
     "execution_count": 23,
     "metadata": {},
     "output_type": "execute_result"
    }
   ],
   "source": [
    "heart_data_raw.shape, no_heart_data_raw.shape"
   ],
   "metadata": {
    "collapsed": false,
    "pycharm": {
     "name": "#%%\n"
    }
   }
  },
  {
   "cell_type": "code",
   "execution_count": 12,
   "outputs": [
    {
     "data": {
      "text/plain": "52901"
     },
     "execution_count": 12,
     "metadata": {},
     "output_type": "execute_result"
    }
   ],
   "source": [
    "16054 + 36847"
   ],
   "metadata": {
    "collapsed": false,
    "pycharm": {
     "name": "#%%\n"
    }
   }
  },
  {
   "cell_type": "code",
   "execution_count": 24,
   "outputs": [],
   "source": [
    "heart_data_raw = torch.tensor(heart_data_raw, dtype= torch.float32)\n",
    "no_heart_data_raw = torch.tensor(no_heart_data_raw, dtype= torch.float32)\n",
    "heart_data_raw = torch.transpose(heart_data_raw,1,2)[:,:,0:4]\n",
    "no_heart_data_raw = torch.transpose(no_heart_data_raw,1,2)[:,:,0:4]"
   ],
   "metadata": {
    "collapsed": false,
    "pycharm": {
     "name": "#%%\n"
    }
   }
  },
  {
   "cell_type": "code",
   "execution_count": 25,
   "outputs": [
    {
     "data": {
      "text/plain": "(torch.Size([16054, 48, 4]), torch.Size([36847, 48, 4]))"
     },
     "execution_count": 25,
     "metadata": {},
     "output_type": "execute_result"
    }
   ],
   "source": [
    "heart_data_raw.shape, no_heart_data_raw.shape"
   ],
   "metadata": {
    "collapsed": false,
    "pycharm": {
     "name": "#%%\n"
    }
   }
  },
  {
   "cell_type": "code",
   "execution_count": 26,
   "outputs": [],
   "source": [
    "n_heart = heart_data_raw.shape[0]\n",
    "n_no_heart = no_heart_data_raw.shape[0]\n",
    "heart_data_raw[0], no_heart_data_raw[0]"
   ],
   "metadata": {
    "collapsed": false,
    "pycharm": {
     "name": "#%%\n"
    }
   }
  },
  {
   "cell_type": "code",
   "execution_count": 27,
   "outputs": [
    {
     "data": {
      "text/plain": "(torch.Size([16054, 48, 4]), torch.Size([36847, 48, 4]))"
     },
     "execution_count": 27,
     "metadata": {},
     "output_type": "execute_result"
    }
   ],
   "source": [
    "# shuffling\n",
    "perm_heart = torch.randperm(n_heart)\n",
    "perm_no_heart = torch.randperm(n_no_heart)\n",
    "heart_data_raw = heart_data_raw[perm_heart]\n",
    "no_heart_data_raw = no_heart_data_raw[perm_no_heart]\n",
    "heart_data_raw.shape, no_heart_data_raw.shape, heart_data_raw[0], no_heart_data_raw[0]"
   ],
   "metadata": {
    "collapsed": false,
    "pycharm": {
     "name": "#%%\n"
    }
   }
  },
  {
   "cell_type": "code",
   "execution_count": 28,
   "outputs": [
    {
     "data": {
      "text/plain": "torch.Size([52901, 48, 4])"
     },
     "execution_count": 28,
     "metadata": {},
     "output_type": "execute_result"
    }
   ],
   "source": [
    "all_data_raw = torch.cat((no_heart_data_raw,heart_data_raw),0)\n",
    "all_data_raw.shape"
   ],
   "metadata": {
    "collapsed": false,
    "pycharm": {
     "name": "#%%\n"
    }
   }
  },
  {
   "cell_type": "code",
   "execution_count": null,
   "outputs": [],
   "source": [
    "# check if there are non-unique datapoints\n",
    "torch.unique(all_data_raw, dim=0).shape[0], all_data_raw.shape[0]"
   ],
   "metadata": {
    "collapsed": false,
    "pycharm": {
     "name": "#%%\n"
    }
   }
  },
  {
   "cell_type": "code",
   "execution_count": null,
   "outputs": [],
   "source": [
    "mean_all = torch.nanmean(all_data_raw,[0,1])\n",
    "std_all = torch.sqrt(torch.nanmean((all_data_raw-mean_all)*(all_data_raw-mean_all), [0,1]))\n",
    "mean_all, std_all"
   ],
   "metadata": {
    "collapsed": false,
    "pycharm": {
     "name": "#%%\n"
    }
   }
  },
  {
   "cell_type": "code",
   "execution_count": null,
   "outputs": [],
   "source": [
    "# normalizing\n",
    "all_data = (all_data_raw-mean_all)/std_all\n",
    "heart_data = (heart_data_raw-mean_all)/std_all\n",
    "no_heart_data = (no_heart_data_raw-mean_all)/std_all"
   ],
   "metadata": {
    "collapsed": false,
    "pycharm": {
     "name": "#%%\n"
    }
   }
  },
  {
   "cell_type": "code",
   "execution_count": null,
   "outputs": [],
   "source": [
    "# sanity check, values should be near 0,1,0,1,0,1 whereas the last 4 values measure the difference between all_ICU and HEART_ONLY\n",
    "mean_all_temp = torch.nanmean(all_data,[0,1])\n",
    "std_all_temp = torch.sqrt(torch.nanmean((all_data-mean_all_temp)*(all_data-mean_all_temp), [0,1]))\n",
    "mean_heart_temp = torch.nanmean(heart_data,[0,1])\n",
    "std_heart_temp = torch.sqrt(torch.nanmean((heart_data-mean_heart_temp)*(heart_data-mean_heart_temp), [0,1]))\n",
    "mean_no_heart_temp = torch.nanmean(no_heart_data,[0,1])\n",
    "std_no_heart_temp = torch.sqrt(torch.nanmean((no_heart_data-mean_no_heart_temp)*(no_heart_data-mean_no_heart_temp), [0,1]))\n",
    "mean_heart_temp, std_all_temp, mean_heart_temp, std_heart_temp, mean_no_heart_temp, std_no_heart_temp"
   ],
   "metadata": {
    "collapsed": false,
    "pycharm": {
     "name": "#%%\n"
    }
   }
  },
  {
   "cell_type": "code",
   "execution_count": null,
   "outputs": [],
   "source": [
    "# splitting heart\n",
    "train_set_heart =heart_data[0: int(n_heart*0.6)]\n",
    "test_set_heart =heart_data[int(n_heart*0.6):int(n_heart * 0.8)]\n",
    "validation_set_heart =heart_data[int(n_heart*0.8):]\n",
    "train_set_heart.shape, test_set_heart.shape, validation_set_heart.shape"
   ],
   "metadata": {
    "collapsed": false,
    "pycharm": {
     "name": "#%%\n"
    }
   }
  },
  {
   "cell_type": "code",
   "execution_count": null,
   "outputs": [],
   "source": [
    "# splitting no_heart\n",
    "train_set_no_heart =no_heart_data[0: int(n_no_heart*0.6)]\n",
    "test_set_no_heart = no_heart_data[int(n_no_heart*0.6):int(n_no_heart * 0.8)]\n",
    "validation_set_no_heart =no_heart_data[int(n_no_heart*0.8):]\n",
    "train_set_no_heart.shape, test_set_no_heart.shape, validation_set_no_heart.shape"
   ],
   "metadata": {
    "collapsed": false,
    "pycharm": {
     "name": "#%%\n"
    }
   }
  },
  {
   "cell_type": "code",
   "execution_count": null,
   "outputs": [],
   "source": [
    "# masking heart\n",
    "p = 0.1\n",
    "missing_mask_train_heart = make_missing_mask(train_set_heart)\n",
    "missing_mask_test_heart = make_missing_mask(test_set_heart)\n",
    "missing_mask_validation_heart = make_missing_mask(validation_set_heart)\n",
    "indicating_mask_train_heart = make_indicating_mask(missing_mask_train_heart,p)\n",
    "indicating_mask_test_heart = make_indicating_mask(missing_mask_test_heart,p)\n",
    "indicating_mask_validation_heart = make_indicating_mask(missing_mask_validation_heart,p)\n",
    "# missing mask doesnt know about indication masking till now\n",
    "missing_mask_train_heart = missing_mask_train_heart- indicating_mask_train_heart\n",
    "missing_mask_validation_heart = missing_mask_validation_heart-indicating_mask_validation_heart\n",
    "missing_mask_test_heart = missing_mask_test_heart- indicating_mask_test_heart"
   ],
   "metadata": {
    "collapsed": false,
    "pycharm": {
     "name": "#%%\n"
    }
   }
  },
  {
   "cell_type": "code",
   "execution_count": null,
   "outputs": [],
   "source": [
    "# masking no_heart\n",
    "missing_mask_train_no_heart = make_missing_mask(train_set_no_heart)\n",
    "missing_mask_test_no_heart = make_missing_mask(test_set_no_heart)\n",
    "missing_mask_validation_no_heart = make_missing_mask(validation_set_no_heart)\n",
    "indicating_mask_train_no_heart = make_indicating_mask(missing_mask_train_no_heart,p)\n",
    "indicating_mask_test_no_heart = make_indicating_mask(missing_mask_test_no_heart,p)\n",
    "indicating_mask_validation_no_heart = make_indicating_mask(missing_mask_validation_no_heart,p)\n",
    "# missing mask doesnt know about indication masking till now\n",
    "missing_mask_train_no_heart = missing_mask_train_no_heart- indicating_mask_train_no_heart\n",
    "missing_mask_validation_no_heart = missing_mask_validation_no_heart-indicating_mask_validation_no_heart\n",
    "missing_mask_test_no_heart = missing_mask_test_no_heart- indicating_mask_test_no_heart"
   ],
   "metadata": {
    "collapsed": false,
    "pycharm": {
     "name": "#%%\n"
    }
   }
  },
  {
   "cell_type": "code",
   "execution_count": null,
   "outputs": [],
   "source": [
    "# setting NaN to zero\n",
    "train_set_heart[torch.isnan(train_set_heart)] = 0\n",
    "test_set_heart[torch.isnan(test_set_heart)] = 0\n",
    "validation_set_heart[torch.isnan(validation_set_heart)] = 0\n",
    "train_set_no_heart[torch.isnan(train_set_no_heart)] = 0\n",
    "test_set_no_heart[torch.isnan(test_set_no_heart)] = 0\n",
    "validation_set_no_heart[torch.isnan(validation_set_no_heart)] = 0"
   ],
   "metadata": {
    "collapsed": false,
    "pycharm": {
     "name": "#%%\n"
    }
   }
  },
  {
   "cell_type": "code",
   "execution_count": null,
   "outputs": [],
   "source": [
    "# putting together ALL_ICU\n",
    "train_set_all = torch.cat((train_set_heart,train_set_no_heart),0)\n",
    "test_set_all = torch.cat((test_set_heart, test_set_no_heart),0)\n",
    "validation_set_all = torch.cat((validation_set_heart, validation_set_no_heart))\n",
    "missing_mask_train_all = torch.cat((missing_mask_train_heart, missing_mask_train_no_heart), 0)\n",
    "missing_mask_test_all = torch.cat((missing_mask_test_heart, missing_mask_test_no_heart),0)\n",
    "missing_mask_validation_all = torch.cat((missing_mask_validation_heart, missing_mask_validation_no_heart), 0)\n",
    "indicating_mask_train_all = torch.cat((indicating_mask_train_heart, indicating_mask_train_no_heart),0)\n",
    "indicating_mask_test_all = torch.cat((indicating_mask_test_heart, indicating_mask_test_no_heart),0)\n",
    "indicating_mask_validation_all = torch.cat((indicating_mask_validation_heart, indicating_mask_validation_no_heart),0)"
   ],
   "metadata": {
    "collapsed": false,
    "pycharm": {
     "name": "#%%\n"
    }
   }
  },
  {
   "cell_type": "code",
   "execution_count": null,
   "outputs": [],
   "source": [
    "# saving the data\n",
    "# saving heart_only first\n",
    "data_dic_heart = {\n",
    "    'train_set': train_set_heart,\n",
    "    'missing_mask_train': missing_mask_train_heart,\n",
    "    'indicating_mask_train': indicating_mask_train_heart,\n",
    "    'test_set': test_set_heart,\n",
    "    'missing_mask_test': missing_mask_test_heart,\n",
    "    'indicating_mask_test': indicating_mask_test_heart,\n",
    "    'validation_set': validation_set_heart,\n",
    "    'missing_mask_validation': missing_mask_validation_heart,\n",
    "    'indicating_mask_validation': indicating_mask_validation_heart,\n",
    "    'percentage_indicating': p,\n",
    "    'description': 'Heart data only first for features, normalized featurewise by substracting the mean of ALL_ICU and scaling by the inverse of the standardvariance of ALL_ICU, split compatible with all_icu_compatible'\n",
    "}\n",
    "torch.save(data_dic_heart, 'heart_only_compatible')\n",
    "\n",
    "data_dic_all = {\n",
    "    'train_set': train_set_all,\n",
    "    'missing_mask_train': missing_mask_train_all,\n",
    "    'indicating_mask_train': indicating_mask_train_all,\n",
    "    'test_set': test_set_all,\n",
    "    'missing_mask_test': missing_mask_test_all,\n",
    "    'indicating_mask_test': indicating_mask_test_all,\n",
    "    'validation_set': validation_set_all,\n",
    "    'missing_mask_validation': missing_mask_validation_all,\n",
    "    'indicating_mask_validation': indicating_mask_validation_all,\n",
    "    'percentage_indicating': p,\n",
    "    'description': 'all icu first four features, normalized featurewise by substracting the mean of ALL_ICU and scaling by the inverse of the standardvariance of ALL_ICU, split compatible with heart_only_compatible'\n",
    "}\n",
    "torch.save(data_dic_all, 'all_icu_compatible')"
   ],
   "metadata": {
    "collapsed": false,
    "pycharm": {
     "name": "#%%\n"
    }
   }
  },
  {
   "cell_type": "code",
   "execution_count": null,
   "outputs": [],
   "source": [],
   "metadata": {
    "collapsed": false,
    "pycharm": {
     "name": "#%%\n"
    }
   }
  }
 ],
 "metadata": {
  "kernelspec": {
   "display_name": "Python 3",
   "language": "python",
   "name": "python3"
  },
  "language_info": {
   "codemirror_mode": {
    "name": "ipython",
    "version": 2
   },
   "file_extension": ".py",
   "mimetype": "text/x-python",
   "name": "python",
   "nbconvert_exporter": "python",
   "pygments_lexer": "ipython2",
   "version": "2.7.6"
  }
 },
 "nbformat": 4,
 "nbformat_minor": 0
}