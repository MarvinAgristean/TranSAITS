{
 "cells": [
  {
   "cell_type": "code",
   "execution_count": 1,
   "metadata": {
    "collapsed": true,
    "pycharm": {
     "name": "#%%\n"
    }
   },
   "outputs": [],
   "source": [
    "from Data.mimic import data_fetcher\n",
    "from settings import ROOT_DIR\n",
    "from Data.mimic.mimic import get_events, get_all_icustay_ids\n",
    "from Data.mimic.data_fetcher import TimeSeriesData\n",
    "import os\n",
    "import pandas as pd\n",
    "import dill\n",
    "import numpy as np\n",
    "\n",
    "chart_ids = data_fetcher.return_ids(data_fetcher.chart_dict)\n",
    "lab_ids = data_fetcher.return_ids(data_fetcher.lab_dict)\n",
    "\n",
    "database_config_path = os.path.join(ROOT_DIR, 'Data', 'mimic', 'mimic.ini')\n",
    "engine = data_fetcher.alchemy_engine_mimic(database_config_path)\n",
    "stays = data_fetcher.get_all_icustay_ids(engine)\n",
    "heart_stays = data_fetcher.get_all_icustay_ids(engine, heart_only=True)"
   ]
  },
  {
   "cell_type": "code",
   "execution_count": 2,
   "outputs": [],
   "source": [
    "def completely_missing(data_df, itemid):\n",
    "    n_missing = len(set(data_df.icustay_id.unique()) - set(data_df[data_df['itemid'] == itemid].icustay_id.unique()))\n",
    "    return n_missing/(len(set(data_df.icustay_id.unique())))\n",
    "\n",
    "def avg_timediff(data_df, itemid):\n",
    "    data_df = data_df[data_df['itemid'] ==  itemid]\n",
    "    diffs  = data_df.groupby('icustay_id').charttime.agg(lambda group: group.sort_values().diff().mean().total_seconds()/60)\n",
    "    avg_diff = diffs.mean()\n",
    "    std = diffs.std()\n",
    "    return avg_diff, std\n",
    "\n",
    "\n",
    "def get_mimic_stats(data_df):\n",
    "    stat_dict = {}\n",
    "    itemids = data_df.itemid.unique()\n",
    "    for itemid in itemids:\n",
    "        stat_dict[itemid] = {}\n",
    "        stat_dict[itemid]['missing'] = completely_missing(data_df, itemid)\n",
    "        stat_dict[itemid]['diff mean'], stat_dict[itemid]['diff std'] = avg_timediff(data_df, itemid)\n",
    "    return stat_dict\n"
   ],
   "metadata": {
    "collapsed": false,
    "pycharm": {
     "name": "#%%\n"
    }
   }
  },
  {
   "cell_type": "code",
   "execution_count": 3,
   "outputs": [],
   "source": [
    "mimic_df = data_fetcher.make_dataframe(engine, data_fetcher.chart_dict, data_fetcher.lab_dict, stays)"
   ],
   "metadata": {
    "collapsed": false,
    "pycharm": {
     "name": "#%%\n"
    }
   }
  },
  {
   "cell_type": "code",
   "execution_count": 4,
   "outputs": [
    {
     "name": "stdout",
     "output_type": "stream",
     "text": [
      "{2: {'missing': 0.5569270902251375, 'diff mean': 53.66225889049408, 'diff std': 10.83578223686341}, 1: {'missing': 0.24267972250051983, 'diff mean': 53.99181239133394, 'diff std': 40.24956554413065}, 6: {'missing': 0.026521237783784804, 'diff mean': 937.1950235067752, 'diff std': 391.1902296497109}, 9: {'missing': 0.025821818113079147, 'diff mean': 961.3994146782151, 'diff std': 370.3195814217308}, 7: {'missing': 0.02739078656358103, 'diff mean': 868.0787342252023, 'diff std': 377.8588414266844}, 4: {'missing': 0.1519063911835315, 'diff mean': 885.5093095738139, 'diff std': 380.9314673771253}, 3: {'missing': 0.009999810967656566, 'diff mean': 57.5696514016523, 'diff std': 26.008989105040637}, 8: {'missing': 0.024082720553486703, 'diff mean': 826.2490849390813, 'diff std': 411.60916976745943}, 5: {'missing': 0.37598533109014953, 'diff mean': 520.9180169849711, 'diff std': 720.3389541792626}, 0: {'missing': 0.4105593467042211, 'diff mean': 198.3146634324688, 'diff std': 119.03643726183898}}\n"
     ]
    }
   ],
   "source": [
    "stats = get_mimic_stats(mimic_df)\n",
    "print(stats)"
   ],
   "metadata": {
    "collapsed": false,
    "pycharm": {
     "name": "#%%\n"
    }
   }
  },
  {
   "cell_type": "code",
   "execution_count": 5,
   "outputs": [
    {
     "data": {
      "text/plain": "            count        mean          std   min     25%         50%  \\\nitemid                                                                 \n0       1204113.0   37.055863     1.775207  -3.0   36.50   37.055599   \n1       4511493.0  121.683512   148.532235 -69.0  104.00  119.000000   \n2       2758624.0   87.414941    55.779654 -88.0   74.00   86.000000   \n3       6053990.0   98.866184  2946.655023   0.0   96.00   98.000000   \n4        295205.0    5.012012  1840.508865 -70.0    0.70    1.000000   \n5        438882.0    7.384254     0.083588   0.0    7.34    7.390000   \n6        336713.0  139.187305     5.363066  82.0  136.00  139.000000   \n7        352784.0    4.087690     0.623354   0.8    3.70    4.000000   \n8        369554.0   29.891827     4.689382   0.0   26.70   29.500000   \n9        321570.0   24.804446     5.248779   5.0   22.00   25.000000   \n\n               75%         max  \nitemid                          \n0        37.599998      376.50  \n1       137.000000   141146.04  \n2        99.000000    86101.00  \n3        99.000000  6363333.00  \n4         1.800000   999999.00  \n5         7.440000        9.00  \n6       142.000000      184.00  \n7         4.400000       27.50  \n8        32.500000       71.70  \n9        28.000000       65.00  ",
      "text/html": "<div>\n<style scoped>\n    .dataframe tbody tr th:only-of-type {\n        vertical-align: middle;\n    }\n\n    .dataframe tbody tr th {\n        vertical-align: top;\n    }\n\n    .dataframe thead th {\n        text-align: right;\n    }\n</style>\n<table border=\"1\" class=\"dataframe\">\n  <thead>\n    <tr style=\"text-align: right;\">\n      <th></th>\n      <th>count</th>\n      <th>mean</th>\n      <th>std</th>\n      <th>min</th>\n      <th>25%</th>\n      <th>50%</th>\n      <th>75%</th>\n      <th>max</th>\n    </tr>\n    <tr>\n      <th>itemid</th>\n      <th></th>\n      <th></th>\n      <th></th>\n      <th></th>\n      <th></th>\n      <th></th>\n      <th></th>\n      <th></th>\n    </tr>\n  </thead>\n  <tbody>\n    <tr>\n      <th>0</th>\n      <td>1204113.0</td>\n      <td>37.055863</td>\n      <td>1.775207</td>\n      <td>-3.0</td>\n      <td>36.50</td>\n      <td>37.055599</td>\n      <td>37.599998</td>\n      <td>376.50</td>\n    </tr>\n    <tr>\n      <th>1</th>\n      <td>4511493.0</td>\n      <td>121.683512</td>\n      <td>148.532235</td>\n      <td>-69.0</td>\n      <td>104.00</td>\n      <td>119.000000</td>\n      <td>137.000000</td>\n      <td>141146.04</td>\n    </tr>\n    <tr>\n      <th>2</th>\n      <td>2758624.0</td>\n      <td>87.414941</td>\n      <td>55.779654</td>\n      <td>-88.0</td>\n      <td>74.00</td>\n      <td>86.000000</td>\n      <td>99.000000</td>\n      <td>86101.00</td>\n    </tr>\n    <tr>\n      <th>3</th>\n      <td>6053990.0</td>\n      <td>98.866184</td>\n      <td>2946.655023</td>\n      <td>0.0</td>\n      <td>96.00</td>\n      <td>98.000000</td>\n      <td>99.000000</td>\n      <td>6363333.00</td>\n    </tr>\n    <tr>\n      <th>4</th>\n      <td>295205.0</td>\n      <td>5.012012</td>\n      <td>1840.508865</td>\n      <td>-70.0</td>\n      <td>0.70</td>\n      <td>1.000000</td>\n      <td>1.800000</td>\n      <td>999999.00</td>\n    </tr>\n    <tr>\n      <th>5</th>\n      <td>438882.0</td>\n      <td>7.384254</td>\n      <td>0.083588</td>\n      <td>0.0</td>\n      <td>7.34</td>\n      <td>7.390000</td>\n      <td>7.440000</td>\n      <td>9.00</td>\n    </tr>\n    <tr>\n      <th>6</th>\n      <td>336713.0</td>\n      <td>139.187305</td>\n      <td>5.363066</td>\n      <td>82.0</td>\n      <td>136.00</td>\n      <td>139.000000</td>\n      <td>142.000000</td>\n      <td>184.00</td>\n    </tr>\n    <tr>\n      <th>7</th>\n      <td>352784.0</td>\n      <td>4.087690</td>\n      <td>0.623354</td>\n      <td>0.8</td>\n      <td>3.70</td>\n      <td>4.000000</td>\n      <td>4.400000</td>\n      <td>27.50</td>\n    </tr>\n    <tr>\n      <th>8</th>\n      <td>369554.0</td>\n      <td>29.891827</td>\n      <td>4.689382</td>\n      <td>0.0</td>\n      <td>26.70</td>\n      <td>29.500000</td>\n      <td>32.500000</td>\n      <td>71.70</td>\n    </tr>\n    <tr>\n      <th>9</th>\n      <td>321570.0</td>\n      <td>24.804446</td>\n      <td>5.248779</td>\n      <td>5.0</td>\n      <td>22.00</td>\n      <td>25.000000</td>\n      <td>28.000000</td>\n      <td>65.00</td>\n    </tr>\n  </tbody>\n</table>\n</div>"
     },
     "execution_count": 5,
     "metadata": {},
     "output_type": "execute_result"
    }
   ],
   "source": [
    "mimic_df.groupby('itemid').valuenum.describe()"
   ],
   "metadata": {
    "collapsed": false,
    "pycharm": {
     "name": "#%%\n"
    }
   }
  },
  {
   "cell_type": "code",
   "execution_count": 6,
   "outputs": [],
   "source": [
    "arr = np.load(os.path.join(ROOT_DIR, 'Data', 'mimic', '48_1_arr.npy'))\n",
    "missing_from_timeseries = {}\n",
    "for itemid in range(arr.shape[1]):\n",
    "    n_missing = np.count_nonzero(np.isnan(arr[:, itemid, :]))\n",
    "    missing_ratio = n_missing/(arr.shape[0]*arr.shape[2])\n",
    "    missing_from_timeseries[itemid] = missing_ratio\n"
   ],
   "metadata": {
    "collapsed": false,
    "pycharm": {
     "name": "#%%\n"
    }
   }
  },
  {
   "cell_type": "code",
   "execution_count": 7,
   "outputs": [
    {
     "data": {
      "text/plain": "{0: 0.7888055833853173,\n 1: 0.47135372362211175,\n 2: 0.6656242320561048,\n 3: 0.2659094346042608,\n 4: 0.9433856007762929,\n 5: 0.9248092348600846,\n 6: 0.9385573996710838,\n 7: 0.9354600259604419,\n 8: 0.9242047251784781,\n 9: 0.9401192794087069}"
     },
     "execution_count": 7,
     "metadata": {},
     "output_type": "execute_result"
    }
   ],
   "source": [
    "missing_from_timeseries"
   ],
   "metadata": {
    "collapsed": false,
    "pycharm": {
     "name": "#%%\n"
    }
   }
  },
  {
   "cell_type": "code",
   "execution_count": 8,
   "outputs": [
    {
     "name": "stdout",
     "output_type": "stream",
     "text": [
      "{5: {'missing': 0.28137639601569575, 'diff mean': 332.41963148755696, 'diff std': 440.6908288125005}, 8: {'missing': 0.018472683368548144, 'diff mean': 733.3172658274675, 'diff std': 379.135512308977}, 6: {'missing': 0.02764865680651977, 'diff mean': 1004.4314823363314, 'diff std': 403.2957963841264}, 7: {'missing': 0.03247811651071537, 'diff mean': 854.3963297348015, 'diff std': 392.64795976709365}, 9: {'missing': 0.024268035013582854, 'diff mean': 1000.3666600926814, 'diff std': 343.1088471195881}, 2: {'missing': 0.6369453667370963, 'diff mean': 50.30351255384274, 'diff std': 12.289718289230091}, 3: {'missing': 0.009538182915786297, 'diff mean': 57.01348910039766, 'diff std': 28.963201105993562}, 1: {'missing': 0.18756414126169635, 'diff mean': 47.87529693616119, 'diff std': 18.363132546197104}, 4: {'missing': 0.1993359492906731, 'diff mean': 891.5742991276345, 'diff std': 338.92600690324355}, 0: {'missing': 0.2856021732568669, 'diff mean': 165.29061463682507, 'diff std': 161.6825567716877}}\n"
     ]
    },
    {
     "data": {
      "text/plain": "{0: 0.7161422175269142,\n 1: 0.4527241171143978,\n 2: 0.7250628835898983,\n 3: 0.2872560116711943,\n 4: 0.9475299325887916,\n 5: 0.8826944360599658,\n 6: 0.9450145889928564,\n 7: 0.9386558003823322,\n 8: 0.917505533755911,\n 9: 0.9437267330717376}"
     },
     "execution_count": 8,
     "metadata": {},
     "output_type": "execute_result"
    }
   ],
   "source": [
    "mimic_heart_df = data_fetcher.make_dataframe(engine, data_fetcher.chart_dict, data_fetcher.lab_dict, heart_stays)\n",
    "stats = get_mimic_stats(mimic_heart_df)\n",
    "print(stats)\n",
    "# mimic_df.groupby('itemid').valuenum.describe()\n",
    "\n",
    "arr_heart = np.load(os.path.join(ROOT_DIR, 'Data', 'mimic', 'dataset_48_1_0510_heart_arr.npy'))\n",
    "missing_from_timeseries = {}\n",
    "for itemid in range(arr_heart.shape[1]):\n",
    "    n_missing = np.count_nonzero(np.isnan(arr_heart[:, itemid, :]))\n",
    "    missing_ratio = n_missing / (arr_heart.shape[0] * arr_heart.shape[2])\n",
    "    missing_from_timeseries[itemid] = missing_ratio\n",
    "\n",
    "missing_from_timeseries"
   ],
   "metadata": {
    "collapsed": false,
    "pycharm": {
     "name": "#%%\n"
    }
   }
  }
 ],
 "metadata": {
  "kernelspec": {
   "display_name": "Python 3",
   "language": "python",
   "name": "python3"
  },
  "language_info": {
   "codemirror_mode": {
    "name": "ipython",
    "version": 2
   },
   "file_extension": ".py",
   "mimetype": "text/x-python",
   "name": "python",
   "nbconvert_exporter": "python",
   "pygments_lexer": "ipython2",
   "version": "2.7.6"
  }
 },
 "nbformat": 4,
 "nbformat_minor": 0
}