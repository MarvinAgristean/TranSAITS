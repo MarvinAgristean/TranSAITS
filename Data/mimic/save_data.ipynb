{
 "cells": [
  {
   "cell_type": "code",
   "execution_count": 1,
   "outputs": [],
   "source": [
    "import torch\n",
    "from Services.masking_service import make_missing_mask, make_indicating_mask\n",
    "from Data.mimic.data_fetcher import TimeSeriesData, load_initialized_dataset\n",
    "import dill\n",
    "import Data.mimic.mimic\n",
    "import numpy as np"
   ],
   "metadata": {
    "collapsed": false,
    "pycharm": {
     "name": "#%%\n"
    }
   }
  },
  {
   "cell_type": "markdown",
   "source": [
    "## load data\n"
   ],
   "metadata": {
    "collapsed": false,
    "pycharm": {
     "name": "#%% md\n"
    }
   }
  },
  {
   "cell_type": "markdown",
   "source": [
    "only run 1 of the following variants\n",
    "if no variant fits the need, create a new one that outputs the data variable in the same way"
   ],
   "metadata": {
    "collapsed": false,
    "pycharm": {
     "name": "#%% md\n"
    }
   }
  },
  {
   "cell_type": "code",
   "execution_count": 2,
   "outputs": [
    {
     "data": {
      "text/plain": "61532"
     },
     "execution_count": 2,
     "metadata": {},
     "output_type": "execute_result"
    }
   ],
   "source": [
    "# load the given data in such a way, that the variable data can be cast into a torch tensor\n",
    "# variant 1: our implementation for all ICU stays\n",
    "with open(fr'C:\\Users\\DHLD\\Desktop\\Imputation\\data-imputation-icu\\Data\\mimic\\dataset_48_1.p', 'rb') as f:\n",
    "    data = dill.load(f)\n",
    "data\n",
    "len(data)"
   ],
   "metadata": {
    "collapsed": false,
    "pycharm": {
     "name": "#%%\n"
    }
   }
  },
  {
   "cell_type": "code",
   "execution_count": 2,
   "outputs": [
    {
     "data": {
      "text/plain": "(16565, 10, 48)"
     },
     "execution_count": 2,
     "metadata": {},
     "output_type": "execute_result"
    }
   ],
   "source": [
    "# load the given data in such a way, that the variable data can be cast into a torch tensor\n",
    "# variant 2: our implementation for only heart stays\n",
    "data = np.load(r'C:\\Users\\DHLD\\Desktop\\Imputation\\data-imputation-icu\\Data\\mimic\\dataset_48_1_0510_heart_arr.npy')\n",
    "data.shape"
   ],
   "metadata": {
    "collapsed": false,
    "pycharm": {
     "name": "#%%\n"
    }
   }
  },
  {
   "cell_type": "code",
   "execution_count": 7,
   "outputs": [
    {
     "data": {
      "text/plain": "(torch.Size([52485, 48, 4]), 52485)"
     },
     "execution_count": 7,
     "metadata": {},
     "output_type": "execute_result"
    }
   ],
   "source": [
    "# creating a torch tensor that hold our data; the data format should be: D[i,j,k] should denote the k-th feature measued at j.th time of the i.th time series\n",
    "D_unnormalized = torch.tensor(data[:52485], dtype= torch.float32)\n",
    "D_unnormalized = torch.transpose(D_unnormalized,1,2)[:,:,0:4] # check if this is necessary\n",
    "n_data = D_unnormalized.shape[0]\n",
    "D_unnormalized.shape, n_data"
   ],
   "metadata": {
    "collapsed": false,
    "pycharm": {
     "name": "#%%\n"
    }
   }
  },
  {
   "cell_type": "code",
   "execution_count": 8,
   "outputs": [
    {
     "data": {
      "text/plain": "torch.Size([52485, 48, 4])"
     },
     "execution_count": 8,
     "metadata": {},
     "output_type": "execute_result"
    }
   ],
   "source": [
    "# shuffling the datapoints\n",
    "random_permutation = torch.randperm(D_unnormalized.shape[0])\n",
    "D_unnormalized = D_unnormalized[random_permutation]\n",
    "D_unnormalized.shape"
   ],
   "metadata": {
    "collapsed": false,
    "pycharm": {
     "name": "#%%\n"
    }
   }
  },
  {
   "cell_type": "markdown",
   "source": [
    "## normalizing"
   ],
   "metadata": {
    "collapsed": false,
    "pycharm": {
     "name": "#%% md\n"
    }
   }
  },
  {
   "cell_type": "code",
   "execution_count": 9,
   "outputs": [],
   "source": [
    "# normalize featurewise such that for every feature: mean = 0, std = 1\n",
    "D_mean = torch.nanmean(D_unnormalized,[0,1])\n",
    "std = torch.sqrt(torch.nanmean((D_unnormalized-D_mean)*(D_unnormalized-D_mean), [0,1]))\n",
    "D = (D_unnormalized- D_mean)/std"
   ],
   "metadata": {
    "collapsed": false,
    "pycharm": {
     "name": "#%%\n"
    }
   }
  },
  {
   "cell_type": "code",
   "execution_count": 10,
   "outputs": [
    {
     "data": {
      "text/plain": "(tensor([-1.3033e-04,  3.3337e-06,  5.2325e-06, -2.7595e-07]),\n tensor([1.0000, 1.0000, 1.0000, 1.0000]))"
     },
     "execution_count": 10,
     "metadata": {},
     "output_type": "execute_result"
    }
   ],
   "source": [
    "D_mean = torch.nanmean(D,[0,1])\n",
    "D_std = torch.sqrt(torch.nanmean((D-D_mean)*(D-D_mean), [0,1]))\n",
    "D_mean, D_std"
   ],
   "metadata": {
    "collapsed": false,
    "pycharm": {
     "name": "#%%\n"
    }
   }
  },
  {
   "cell_type": "markdown",
   "source": [
    "## splitting"
   ],
   "metadata": {
    "collapsed": false,
    "pycharm": {
     "name": "#%% md\n"
    }
   }
  },
  {
   "cell_type": "code",
   "execution_count": 11,
   "outputs": [
    {
     "data": {
      "text/plain": "(torch.Size([31491, 48, 4]),\n torch.Size([10497, 48, 4]),\n torch.Size([10497, 48, 4]))"
     },
     "execution_count": 11,
     "metadata": {},
     "output_type": "execute_result"
    }
   ],
   "source": [
    "train_set =D[0: int(n_data*0.6)]\n",
    "test_set =D[int(n_data*0.6):int(n_data * 0.8)]\n",
    "validation_set =D[int(n_data*0.8):]\n",
    "train_set.shape, test_set.shape, validation_set.shape"
   ],
   "metadata": {
    "collapsed": false,
    "pycharm": {
     "name": "#%%\n"
    }
   }
  },
  {
   "cell_type": "markdown",
   "source": [
    "## masking"
   ],
   "metadata": {
    "collapsed": false,
    "pycharm": {
     "name": "#%% md\n"
    }
   }
  },
  {
   "cell_type": "code",
   "execution_count": 12,
   "outputs": [],
   "source": [
    "# fill this out\n",
    "\n",
    "# set parameter for indicating masking\n",
    "p = 0.1"
   ],
   "metadata": {
    "collapsed": false,
    "pycharm": {
     "name": "#%%\n"
    }
   }
  },
  {
   "cell_type": "code",
   "execution_count": 13,
   "outputs": [],
   "source": [
    "missing_mask_train = make_missing_mask(train_set)\n",
    "indicating_mask_train = make_indicating_mask(missing_mask_train,p)\n",
    "missing_mask_test = make_missing_mask(test_set)\n",
    "indicating_mask_test = make_indicating_mask(missing_mask_test,p)\n",
    "missing_mask_validation = make_missing_mask(validation_set)\n",
    "indicating_mask_validation = make_indicating_mask(missing_mask_validation,p)\n",
    "# missing mask doesn't know about the indicated values; the following missing mask respects them\n",
    "missing_mask_tilde_train = missing_mask_train - indicating_mask_train\n",
    "missing_mask_tilde_test = missing_mask_test - indicating_mask_test\n",
    "missing_mask_tilde_validation = missing_mask_validation - indicating_mask_validation"
   ],
   "metadata": {
    "collapsed": false,
    "pycharm": {
     "name": "#%%\n"
    }
   }
  },
  {
   "cell_type": "code",
   "execution_count": 14,
   "outputs": [],
   "source": [
    "# setting NaN to zero\n",
    "train_set[torch.isnan(train_set)] = 0\n",
    "test_set[torch.isnan(test_set)] = 0\n",
    "validation_set[torch.isnan(validation_set)] = 0"
   ],
   "metadata": {
    "collapsed": false,
    "pycharm": {
     "name": "#%%\n"
    }
   }
  },
  {
   "cell_type": "markdown",
   "source": [
    "## saving"
   ],
   "metadata": {
    "collapsed": false,
    "pycharm": {
     "name": "#%% md\n"
    }
   }
  },
  {
   "cell_type": "code",
   "execution_count": 15,
   "outputs": [],
   "source": [
    "# fill this out\n",
    "\n",
    "# some description of this data tuple if necessary\n",
    "description = 'The data is normalized featurewise; missing mask respects indicated values; data is shuffled; first feature block- 4 features & 48 timestamps; all ICU stays, dtype= torch.float32'\n",
    "\n",
    "name_to_save = 'data_all_ICU_first_four_features_shuffled'"
   ],
   "metadata": {
    "collapsed": false,
    "pycharm": {
     "name": "#%%\n"
    }
   }
  },
  {
   "cell_type": "code",
   "execution_count": 16,
   "outputs": [],
   "source": [
    "data_dic = {\n",
    "    'train_set': train_set,\n",
    "    'missing_mask_train': missing_mask_tilde_train,\n",
    "    'indicating_mask_train': indicating_mask_train,\n",
    "    'test_set': test_set,\n",
    "    'missing_mask_test': missing_mask_tilde_test,\n",
    "    'indicating_mask_test': indicating_mask_test,\n",
    "    'validation_set': validation_set,\n",
    "    'missing_mask_validation': missing_mask_tilde_validation,\n",
    "    'indicating_mask_validation': indicating_mask_validation,\n",
    "    'percentage_indicating': p,\n",
    "    'description': description\n",
    "}\n",
    "torch.save(data_dic, name_to_save)"
   ],
   "metadata": {
    "collapsed": false,
    "pycharm": {
     "name": "#%%\n"
    }
   }
  },
  {
   "cell_type": "code",
   "execution_count": 22,
   "outputs": [],
   "source": [],
   "metadata": {
    "collapsed": false,
    "pycharm": {
     "name": "#%%\n"
    }
   }
  }
 ],
 "metadata": {
  "kernelspec": {
   "display_name": "Python 3",
   "language": "python",
   "name": "python3"
  },
  "language_info": {
   "codemirror_mode": {
    "name": "ipython",
    "version": 2
   },
   "file_extension": ".py",
   "mimetype": "text/x-python",
   "name": "python",
   "nbconvert_exporter": "python",
   "pygments_lexer": "ipython2",
   "version": "2.7.6"
  }
 },
 "nbformat": 4,
 "nbformat_minor": 0
}
