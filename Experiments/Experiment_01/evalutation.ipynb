{
 "cells": [
  {
   "cell_type": "code",
   "execution_count": 1,
   "outputs": [],
   "source": [
    "import torch\n",
    "from Models.Baseline_Methods.last_imputation import last_imputation\n",
    "from Models.Baseline_Methods.mean_imputation import mean_imputation\n",
    "from Models.Baseline_Methods.median_imputation import median_imputation\n",
    "from Models.Baseline_Methods.zero_imputation import zero_imputation\n",
    "from Utils.metric_service import evaluate_metrics\n",
    "from Models.BRITS.delta_service import make_delta_simplified\n",
    "from Models.SAITS.saits_utils import saits_evaluate\n",
    "from Models.BRITS.brits_utils import brits_evaluate\n",
    "from Models.MRNN.mrnn_utils import mrnn_evaluate\n",
    "import statistics"
   ],
   "metadata": {
    "collapsed": false,
    "pycharm": {
     "name": "#%%\n"
    }
   }
  },
  {
   "cell_type": "code",
   "execution_count": 2,
   "outputs": [],
   "source": [
    "device = 'cpu'\n",
    "if torch.cuda.is_available():\n",
    "    device = \"cuda:0\"   # change to another gpu if needed"
   ],
   "metadata": {
    "collapsed": false,
    "pycharm": {
     "name": "#%%\n"
    }
   }
  },
  {
   "cell_type": "code",
   "execution_count": 3,
   "outputs": [],
   "source": [
    "def metric_list_to_eval(metric_list):\n",
    "    return {\n",
    "    'mae': '{mean} +/- {std}'.format(mean = statistics.mean([m['imputation mae'].item() for m in metric_list]), std = statistics.stdev([m['imputation mae'].item() for m in metric_list])),\n",
    "    'rmse': '{mean} +/- {std}'.format(mean = statistics.mean([m['imputation rmse'].item() for m in metric_list]), std = statistics.stdev([m['imputation rmse'].item() for m in metric_list])),\n",
    "    'mre': '{mean} +/- {std}'.format(mean = statistics.mean([m['imputation mre'].item() for m in metric_list]), std = statistics.stdev([m['imputation mre'].item() for m in metric_list]))}"
   ],
   "metadata": {
    "collapsed": false,
    "pycharm": {
     "name": "#%%\n"
    }
   }
  },
  {
   "cell_type": "markdown",
   "source": [
    "# ALL ICU DATA"
   ],
   "metadata": {
    "collapsed": false,
    "pycharm": {
     "name": "#%% md\n"
    }
   }
  },
  {
   "cell_type": "code",
   "execution_count": 4,
   "outputs": [],
   "source": [
    "all_icu_dic = torch.load('all_feat_all_icu_compatible_unique')\n",
    "#val_set_all_icu = all_icu_dic['validation_set'].to(device)\n",
    "#val_missing_mask_all_icu = all_icu_dic['missing_mask_validation'].to(device)\n",
    "#val_indicating_mask_all_icu = all_icu_dic['indicating_mask_validation'].to(device)\n",
    "num_features = 10\n",
    "train_set_all_icu = all_icu_dic['train_set'].to(device)\n",
    "train_missing_mask_all_icu = all_icu_dic['missing_mask_train'].to(device)\n",
    "test_set_all_icu = all_icu_dic['test_set'].to(device)\n",
    "test_missing_mask_all_icu = all_icu_dic['missing_mask_test'].to(device)\n",
    "test_indicating_mask_all_icu = all_icu_dic['indicating_mask_test'].to(device)\n",
    "test_deltas = make_delta_simplified(all_icu_dic['missing_mask_test']).to(device)"
   ],
   "metadata": {
    "collapsed": false,
    "pycharm": {
     "name": "#%%\n"
    }
   }
  },
  {
   "cell_type": "code",
   "execution_count": 5,
   "outputs": [],
   "source": [
    "# baseline methods\n",
    "model_last = last_imputation()\n",
    "model_mean = mean_imputation(num_features)\n",
    "model_mean.train(train_set_all_icu*train_missing_mask_all_icu,train_missing_mask_all_icu)\n",
    "model_median = median_imputation(num_features)\n",
    "model_median.train(train_set_all_icu*train_missing_mask_all_icu,train_missing_mask_all_icu)\n",
    "model_zero = zero_imputation()"
   ],
   "metadata": {
    "collapsed": false,
    "pycharm": {
     "name": "#%%\n"
    }
   }
  },
  {
   "cell_type": "code",
   "execution_count": 6,
   "outputs": [],
   "source": [
    "imputation_last = model_last.impute(test_set_all_icu*test_missing_mask_all_icu,test_missing_mask_all_icu)\n",
    "imputation_mean = model_mean.impute(test_set_all_icu*test_missing_mask_all_icu,test_missing_mask_all_icu)\n",
    "imputation_median = model_median.impute(test_set_all_icu*test_missing_mask_all_icu,test_missing_mask_all_icu)\n",
    "imputation_zero = model_zero.impute(test_set_all_icu*test_missing_mask_all_icu,test_missing_mask_all_icu)"
   ],
   "metadata": {
    "collapsed": false,
    "pycharm": {
     "name": "#%%\n"
    }
   }
  },
  {
   "cell_type": "code",
   "execution_count": 7,
   "outputs": [],
   "source": [
    "eval_dic_all_icu = {\n",
    "    'last': evaluate_metrics(imputation_last,test_set_all_icu, test_indicating_mask_all_icu),\n",
    "    'mean':  evaluate_metrics(imputation_mean, test_set_all_icu, test_indicating_mask_all_icu),\n",
    "    'median': evaluate_metrics(imputation_median, test_set_all_icu, test_indicating_mask_all_icu),\n",
    "    'zero': evaluate_metrics(imputation_zero, test_set_all_icu, test_indicating_mask_all_icu)\n",
    "}"
   ],
   "metadata": {
    "collapsed": false,
    "pycharm": {
     "name": "#%%\n"
    }
   }
  },
  {
   "cell_type": "code",
   "execution_count": 8,
   "outputs": [
    {
     "data": {
      "text/plain": "{'last': {'rmse': tensor(0.5219, device='cuda:0'),\n  'mae': tensor(0.1690, device='cuda:0'),\n  'mre': tensor(0.5690, device='cuda:0')},\n 'mean': {'rmse': tensor(0.6580, device='cuda:0'),\n  'mae': tensor(0.2972, device='cuda:0'),\n  'mre': tensor(1.0005, device='cuda:0')},\n 'median': {'rmse': tensor(0.6595, device='cuda:0'),\n  'mae': tensor(0.2944, device='cuda:0'),\n  'mre': tensor(0.9913, device='cuda:0')},\n 'zero': {'rmse': tensor(0.6580, device='cuda:0'),\n  'mae': tensor(0.2970, device='cuda:0'),\n  'mre': tensor(1., device='cuda:0')}}"
     },
     "execution_count": 8,
     "metadata": {},
     "output_type": "execute_result"
    }
   ],
   "source": [
    "eval_dic_all_icu"
   ],
   "metadata": {
    "collapsed": false,
    "pycharm": {
     "name": "#%%\n"
    }
   }
  },
  {
   "cell_type": "code",
   "execution_count": 9,
   "outputs": [],
   "source": [
    "saits_all_icu_list = torch.load('saits_all_feat_all_icu_list')\n",
    "brits_all_icu_list = torch.load('brits_all_feat_all_icu_list')\n",
    "mrnn_all_icu_list = torch.load('mrnn_all_feat_all_icu_list')"
   ],
   "metadata": {
    "collapsed": false,
    "pycharm": {
     "name": "#%%\n"
    }
   }
  },
  {
   "cell_type": "code",
   "execution_count": 10,
   "outputs": [
    {
     "name": "stderr",
     "output_type": "stream",
     "text": [
      "C:\\Users\\DHLD\\anaconda3\\envs\\work38\\lib\\site-packages\\torch\\nn\\functional.py:1960: UserWarning: nn.functional.sigmoid is deprecated. Use torch.sigmoid instead.\n",
      "  warnings.warn(\"nn.functional.sigmoid is deprecated. Use torch.sigmoid instead.\")\n",
      "C:\\Users\\DHLD\\anaconda3\\envs\\work38\\lib\\site-packages\\torch\\nn\\functional.py:1949: UserWarning: nn.functional.tanh is deprecated. Use torch.tanh instead.\n",
      "  warnings.warn(\"nn.functional.tanh is deprecated. Use torch.tanh instead.\")\n"
     ]
    }
   ],
   "source": [
    "saits_all_icu_metric_list = []\n",
    "for t in saits_all_icu_list:\n",
    "    model = t['model'].to(device)\n",
    "    saits_all_icu_metric_list.append(saits_evaluate(model, test_set_all_icu, test_missing_mask_all_icu, test_indicating_mask_all_icu))\n",
    "brits_all_icu_metric_list = []\n",
    "for t in brits_all_icu_list:\n",
    "    model = t['model'].to(device)\n",
    "    brits_all_icu_metric_list.append(brits_evaluate(model, test_set_all_icu, test_missing_mask_all_icu, test_indicating_mask_all_icu, test_deltas))\n",
    "mrnn_all_icu_metric_list = []\n",
    "for t in mrnn_all_icu_list:\n",
    "    model = t['model']\n",
    "    mrnn_all_icu_metric_list.append(mrnn_evaluate(model, test_set_all_icu, test_missing_mask_all_icu, test_indicating_mask_all_icu, test_deltas))"
   ],
   "metadata": {
    "collapsed": false,
    "pycharm": {
     "name": "#%%\n"
    }
   }
  },
  {
   "cell_type": "code",
   "execution_count": 11,
   "outputs": [],
   "source": [
    "eval_dic_all_icu['SAITS'] = metric_list_to_eval(saits_all_icu_metric_list)\n",
    "\n",
    "eval_dic_all_icu['BRITS'] = metric_list_to_eval(brits_all_icu_metric_list)\n",
    "eval_dic_all_icu['MRNN'] = metric_list_to_eval(mrnn_all_icu_metric_list)"
   ],
   "metadata": {
    "collapsed": false,
    "pycharm": {
     "name": "#%%\n"
    }
   }
  },
  {
   "cell_type": "code",
   "execution_count": 12,
   "outputs": [
    {
     "data": {
      "text/plain": "{'last': {'rmse': tensor(0.5219, device='cuda:0'),\n  'mae': tensor(0.1690, device='cuda:0'),\n  'mre': tensor(0.5690, device='cuda:0')},\n 'mean': {'rmse': tensor(0.6580, device='cuda:0'),\n  'mae': tensor(0.2972, device='cuda:0'),\n  'mre': tensor(1.0005, device='cuda:0')},\n 'median': {'rmse': tensor(0.6595, device='cuda:0'),\n  'mae': tensor(0.2944, device='cuda:0'),\n  'mre': tensor(0.9913, device='cuda:0')},\n 'zero': {'rmse': tensor(0.6580, device='cuda:0'),\n  'mae': tensor(0.2970, device='cuda:0'),\n  'mre': tensor(1., device='cuda:0')},\n 'SAITS': {'mae': '0.1317450985312462 +/- 0.0007521993712309375',\n  'rmse': '0.45556535124778746 +/- 0.0037330136215141447',\n  'mre': '0.44357359409332275 +/- 0.0025325938230718677'},\n 'BRITS': {'mae': '0.13817179650068284 +/- 0.0007273374806953895',\n  'rmse': '0.4558850258588791 +/- 0.001058615201040269',\n  'mre': '0.4652116984128952 +/- 0.0024488801004228264'},\n 'MRNN': {'mae': '0.1536129578948021 +/- 0.004476994229747861',\n  'rmse': '0.4828182846307755 +/- 0.006551771879296376',\n  'mre': '0.5172006726264954 +/- 0.015073633915467875'}}"
     },
     "execution_count": 12,
     "metadata": {},
     "output_type": "execute_result"
    }
   ],
   "source": [
    "eval_dic_all_icu"
   ],
   "metadata": {
    "collapsed": false,
    "pycharm": {
     "name": "#%%\n"
    }
   }
  },
  {
   "cell_type": "markdown",
   "source": [
    "# Heart Data"
   ],
   "metadata": {
    "collapsed": false,
    "pycharm": {
     "name": "#%% md\n"
    }
   }
  },
  {
   "cell_type": "code",
   "execution_count": 13,
   "outputs": [],
   "source": [
    "heart_only_dic = torch.load('all_feat_heart_only_compatible_unique')\n",
    "#val_set_all_icu = all_icu_dic['validation_set'].to(device)\n",
    "#val_missing_mask_all_icu = all_icu_dic['missing_mask_validation'].to(device)\n",
    "#val_indicating_mask_all_icu = all_icu_dic['indicating_mask_validation'].to(device)\n",
    "num_features = 10\n",
    "train_set_heart_only = heart_only_dic['train_set'].to(device)\n",
    "train_missing_mask_heart_only = heart_only_dic['missing_mask_train'].to(device)\n",
    "test_set_heart_only = heart_only_dic['test_set'].to(device)\n",
    "test_missing_mask_heart_only = heart_only_dic['missing_mask_test'].to(device)\n",
    "test_indicating_mask_heart_only = heart_only_dic['indicating_mask_test'].to(device)\n",
    "test_deltas_heart_only = make_delta_simplified(heart_only_dic['missing_mask_test']).to(device)"
   ],
   "metadata": {
    "collapsed": false,
    "pycharm": {
     "name": "#%%\n"
    }
   }
  },
  {
   "cell_type": "code",
   "execution_count": 14,
   "outputs": [],
   "source": [
    "# baseline methods\n",
    "model_last = last_imputation()\n",
    "model_mean_heart = mean_imputation(num_features)\n",
    "model_mean.train(train_set_heart_only*train_missing_mask_heart_only,train_missing_mask_heart_only)\n",
    "model_median_heart = median_imputation(num_features)\n",
    "model_median.train(train_set_heart_only*train_missing_mask_heart_only,train_missing_mask_heart_only)\n",
    "model_zero = zero_imputation()"
   ],
   "metadata": {
    "collapsed": false,
    "pycharm": {
     "name": "#%%\n"
    }
   }
  },
  {
   "cell_type": "markdown",
   "source": [],
   "metadata": {
    "collapsed": false,
    "pycharm": {
     "name": "#%% md\n"
    }
   }
  },
  {
   "cell_type": "code",
   "execution_count": 15,
   "outputs": [],
   "source": [
    "imputation_last_heart = model_last.impute(test_set_heart_only*test_missing_mask_heart_only,test_missing_mask_heart_only)\n",
    "imputation_mean_heart = model_mean.impute(test_set_heart_only*test_missing_mask_heart_only,test_missing_mask_heart_only)\n",
    "imputation_median_heart = model_median.impute(test_set_heart_only*test_missing_mask_heart_only,test_missing_mask_heart_only)\n",
    "imputation_zero_heart = model_zero.impute(test_set_heart_only*test_missing_mask_heart_only,test_missing_mask_heart_only)"
   ],
   "metadata": {
    "collapsed": false,
    "pycharm": {
     "name": "#%%\n"
    }
   }
  },
  {
   "cell_type": "code",
   "execution_count": 16,
   "outputs": [],
   "source": [
    "eval_dic_heart_only = {\n",
    "    'last': evaluate_metrics(imputation_last_heart,test_set_heart_only, test_indicating_mask_heart_only),\n",
    "    'mean':  evaluate_metrics(imputation_mean_heart, test_set_heart_only, test_indicating_mask_heart_only),\n",
    "    'median': evaluate_metrics(imputation_median_heart, test_set_heart_only, test_indicating_mask_heart_only),\n",
    "    'zero': evaluate_metrics(imputation_zero_heart, test_set_heart_only, test_indicating_mask_heart_only)\n",
    "}"
   ],
   "metadata": {
    "collapsed": false,
    "pycharm": {
     "name": "#%%\n"
    }
   }
  },
  {
   "cell_type": "code",
   "execution_count": 17,
   "outputs": [],
   "source": [
    "saits_heart_only_list = torch.load('saits_all_feat_heart_only_list')\n",
    "brits_heart_only_list= torch.load('brits_all_feat_heart_only_list')\n",
    "mrnn_heart_only_list = torch.load('mrnn_all_feat_heart_only_list')\n",
    "\n",
    "saits_transfer_list = torch.load('saits_all_feat_transfer_list')\n",
    "brits_transfer_list = torch.load('brits_all_feat_transfer_list')\n",
    "mrnn_transfer_list = torch.load('mrnn_all_feat_transfer_list')"
   ],
   "metadata": {
    "collapsed": false,
    "pycharm": {
     "name": "#%%\n"
    }
   }
  },
  {
   "cell_type": "code",
   "execution_count": 18,
   "outputs": [],
   "source": [
    "saits_heart_only_metric_list = []\n",
    "for t in saits_heart_only_list:\n",
    "    model = t['model'].to(device)\n",
    "    saits_heart_only_metric_list.append(saits_evaluate(model, test_set_heart_only, test_missing_mask_heart_only, test_indicating_mask_heart_only))\n",
    "\n",
    "brits_heart_only_metric_list = []\n",
    "for t in brits_heart_only_list:\n",
    "    model = t['model'].to(device)\n",
    "    brits_heart_only_metric_list.append(brits_evaluate(model, test_set_heart_only, test_missing_mask_heart_only, test_indicating_mask_heart_only, test_deltas_heart_only))\n",
    "\n",
    "mrnn_heart_only_metric_list = []\n",
    "for t in mrnn_heart_only_list:\n",
    "    model = t['model']\n",
    "    mrnn_heart_only_metric_list.append(mrnn_evaluate(model, test_set_heart_only, test_missing_mask_heart_only, test_indicating_mask_heart_only, test_deltas_heart_only))\n",
    "\n",
    "saits_transfer_metric_list = []\n",
    "for t in saits_transfer_list:\n",
    "    model = t['model']\n",
    "    saits_transfer_metric_list.append(saits_evaluate(model, test_set_heart_only, test_missing_mask_heart_only, test_indicating_mask_heart_only))\n",
    "\n",
    "brits_transfer_metric_list = []\n",
    "for t in brits_transfer_list:\n",
    "    model = t['model']\n",
    "    brits_transfer_metric_list.append(brits_evaluate(model, test_set_heart_only, test_missing_mask_heart_only, test_indicating_mask_heart_only, test_deltas_heart_only))\n",
    "\n",
    "mrnn_transfer_metric_list = []\n",
    "for t in mrnn_transfer_list:\n",
    "    model = t['model']\n",
    "    mrnn_transfer_metric_list.append(mrnn_evaluate(model, test_set_heart_only, test_missing_mask_heart_only, test_indicating_mask_heart_only, test_deltas_heart_only))\n",
    "\n",
    "saits_all_train_heart_eval_metric_list = []\n",
    "for t in saits_all_icu_list:\n",
    "    model = t['model']\n",
    "    saits_all_train_heart_eval_metric_list.append(saits_evaluate(model, test_set_heart_only, test_missing_mask_heart_only, test_indicating_mask_heart_only))\n",
    "\n",
    "brits_all_train_heart_eval_metric_list = []\n",
    "for t in brits_all_icu_list:\n",
    "    model = t['model']\n",
    "    brits_all_train_heart_eval_metric_list.append(brits_evaluate(model, test_set_heart_only, test_missing_mask_heart_only, test_indicating_mask_heart_only, test_deltas_heart_only))\n",
    "\n",
    "mrnn_all_train_heart_eval_metric_list = []\n",
    "for t in mrnn_all_icu_list:\n",
    "    model = t['model']\n",
    "    mrnn_all_train_heart_eval_metric_list.append(mrnn_evaluate(model, test_set_heart_only, test_missing_mask_heart_only, test_indicating_mask_heart_only, test_deltas_heart_only))"
   ],
   "metadata": {
    "collapsed": false,
    "pycharm": {
     "name": "#%%\n"
    }
   }
  },
  {
   "cell_type": "code",
   "execution_count": 19,
   "outputs": [],
   "source": [
    "eval_dic_heart_only['SAITS trained on heart'] = metric_list_to_eval(saits_heart_only_metric_list)\n",
    "\n",
    "eval_dic_heart_only['BRITS trained on heart'] = metric_list_to_eval(brits_heart_only_metric_list)\n",
    "\n",
    "eval_dic_heart_only['MRNN trained on heart'] = metric_list_to_eval(mrnn_heart_only_metric_list)\n",
    "\n",
    "eval_dic_heart_only['SAITS transfer'] = metric_list_to_eval(saits_transfer_metric_list)\n",
    "\n",
    "eval_dic_heart_only['BRITS transfer'] = metric_list_to_eval(brits_transfer_metric_list)\n",
    "\n",
    "\n",
    "eval_dic_heart_only['MRNN transfer'] = metric_list_to_eval(mrnn_transfer_metric_list)\n",
    "\n",
    "eval_dic_heart_only['SAITS trained on ALL'] = metric_list_to_eval(saits_all_train_heart_eval_metric_list)\n",
    "\n",
    "eval_dic_heart_only['BRITS trained on ALL'] = metric_list_to_eval(brits_all_train_heart_eval_metric_list)\n",
    "\n",
    "eval_dic_heart_only['MRNN trained on ALL'] = metric_list_to_eval(mrnn_all_train_heart_eval_metric_list)"
   ],
   "metadata": {
    "collapsed": false,
    "pycharm": {
     "name": "#%%\n"
    }
   }
  },
  {
   "cell_type": "code",
   "execution_count": 20,
   "outputs": [
    {
     "data": {
      "text/plain": "{'last': {'rmse': tensor(0.3859, device='cuda:0'),\n  'mae': tensor(0.1662, device='cuda:0'),\n  'mre': tensor(0.5673, device='cuda:0')},\n 'mean': {'rmse': tensor(0.5566, device='cuda:0'),\n  'mae': tensor(0.2931, device='cuda:0'),\n  'mre': tensor(1.0007, device='cuda:0')},\n 'median': {'rmse': tensor(0.5588, device='cuda:0'),\n  'mae': tensor(0.2907, device='cuda:0'),\n  'mre': tensor(0.9926, device='cuda:0')},\n 'zero': {'rmse': tensor(0.5565, device='cuda:0'),\n  'mae': tensor(0.2929, device='cuda:0'),\n  'mre': tensor(1., device='cuda:0')},\n 'SAITS trained on heart': {'mae': '0.13596890419721602 +/- 0.0015334600416566575',\n  'rmse': '0.3106510162353516 +/- 0.0034608727334073117',\n  'mre': '0.46422640681266786 +/- 0.005235557400733331'},\n 'BRITS trained on heart': {'mae': '0.1379660561680794 +/- 0.0006379032548373497',\n  'rmse': '0.3097578167915344 +/- 0.0012445385046467704',\n  'mre': '0.4710451036691666 +/- 0.0021779366661780703'},\n 'MRNN trained on heart': {'mae': '0.16008420586585997 +/- 0.008459495103872592',\n  'rmse': '0.34419241547584534 +/- 0.011560419290776445',\n  'mre': '0.5465610980987549 +/- 0.028882496932761972'},\n 'SAITS transfer': {'mae': '0.12501098662614823 +/- 9.153766706572154e-05',\n  'rmse': '0.2936623156070709 +/- 0.0003404128377358514',\n  'mre': '0.42681377232074735 +/- 0.0003125250589062244'},\n 'BRITS transfer': {'mae': '0.13235583752393723 +/- 0.00028840597519707244',\n  'rmse': '0.29885060489177706 +/- 0.0008178510528831273',\n  'mre': '0.4518906384706497 +/- 0.000984683125521662'},\n 'MRNN transfer': {'mae': '0.1423388570547104 +/- 0.002562040065936669',\n  'rmse': '0.31641645133495333 +/- 0.0016438376866410463',\n  'mre': '0.48597475290298464 +/- 0.008747345356136095'},\n 'SAITS trained on ALL': {'mae': '0.12760431617498397 +/- 0.0008124139923046299',\n  'rmse': '0.29665652215480803 +/- 0.002530234181050339',\n  'mre': '0.43566794991493224 +/- 0.002773756350540855'},\n 'BRITS trained on ALL': {'mae': '0.13335307389497758 +/- 0.0008325928127144663',\n  'rmse': '0.30108305513858796 +/- 0.0019326749191141868',\n  'mre': '0.45529540777206423 +/- 0.0028426390582409525'},\n 'MRNN trained on ALL': {'mae': '0.14847652912139891 +/- 0.0042181404432341035',\n  'rmse': '0.32895949482917786 +/- 0.00771191119367776',\n  'mre': '0.5069300621747971 +/- 0.014401618960771082'}}"
     },
     "execution_count": 20,
     "metadata": {},
     "output_type": "execute_result"
    }
   ],
   "source": [
    "eval_dic_heart_only"
   ],
   "metadata": {
    "collapsed": false,
    "pycharm": {
     "name": "#%%\n"
    }
   }
  },
  {
   "cell_type": "code",
   "execution_count": 21,
   "outputs": [
    {
     "name": "stdout",
     "output_type": "stream",
     "text": [
      "Heart Only: mae/mre/rmse\n",
      "last tensor(0.1662, device='cuda:0') / tensor(0.5673, device='cuda:0') / tensor(0.3859, device='cuda:0')\n",
      "mean tensor(0.2931, device='cuda:0') / tensor(1.0007, device='cuda:0') / tensor(0.5566, device='cuda:0')\n",
      "median tensor(0.2907, device='cuda:0') / tensor(0.9926, device='cuda:0') / tensor(0.5588, device='cuda:0')\n",
      "zero tensor(0.2929, device='cuda:0') / tensor(1., device='cuda:0') / tensor(0.5565, device='cuda:0')\n",
      "SAITS trained on heart 0.13596890419721602 +/- 0.0015334600416566575 / 0.46422640681266786 +/- 0.005235557400733331 / 0.3106510162353516 +/- 0.0034608727334073117\n",
      "BRITS trained on heart 0.1379660561680794 +/- 0.0006379032548373497 / 0.4710451036691666 +/- 0.0021779366661780703 / 0.3097578167915344 +/- 0.0012445385046467704\n",
      "MRNN trained on heart 0.16008420586585997 +/- 0.008459495103872592 / 0.5465610980987549 +/- 0.028882496932761972 / 0.34419241547584534 +/- 0.011560419290776445\n",
      "SAITS transfer 0.12501098662614823 +/- 9.153766706572154e-05 / 0.42681377232074735 +/- 0.0003125250589062244 / 0.2936623156070709 +/- 0.0003404128377358514\n",
      "BRITS transfer 0.13235583752393723 +/- 0.00028840597519707244 / 0.4518906384706497 +/- 0.000984683125521662 / 0.29885060489177706 +/- 0.0008178510528831273\n",
      "MRNN transfer 0.1423388570547104 +/- 0.002562040065936669 / 0.48597475290298464 +/- 0.008747345356136095 / 0.31641645133495333 +/- 0.0016438376866410463\n",
      "SAITS trained on ALL 0.12760431617498397 +/- 0.0008124139923046299 / 0.43566794991493224 +/- 0.002773756350540855 / 0.29665652215480803 +/- 0.002530234181050339\n",
      "BRITS trained on ALL 0.13335307389497758 +/- 0.0008325928127144663 / 0.45529540777206423 +/- 0.0028426390582409525 / 0.30108305513858796 +/- 0.0019326749191141868\n",
      "MRNN trained on ALL 0.14847652912139891 +/- 0.0042181404432341035 / 0.5069300621747971 +/- 0.014401618960771082 / 0.32895949482917786 +/- 0.00771191119367776\n"
     ]
    }
   ],
   "source": [
    "print('Heart Only: mae/mre/rmse')\n",
    "for k in eval_dic_heart_only.keys():\n",
    "    print(k, eval_dic_heart_only[k]['mae'],'/', eval_dic_heart_only[k]['mre'], '/', eval_dic_heart_only[k]['rmse'])"
   ],
   "metadata": {
    "collapsed": false,
    "pycharm": {
     "name": "#%%\n"
    }
   }
  },
  {
   "cell_type": "code",
   "execution_count": 22,
   "outputs": [
    {
     "name": "stdout",
     "output_type": "stream",
     "text": [
      "All ICU: mae/mre/rmse\n",
      "last tensor(0.1690, device='cuda:0') / tensor(0.5690, device='cuda:0') / tensor(0.5219, device='cuda:0')\n",
      "mean tensor(0.2972, device='cuda:0') / tensor(1.0005, device='cuda:0') / tensor(0.6580, device='cuda:0')\n",
      "median tensor(0.2944, device='cuda:0') / tensor(0.9913, device='cuda:0') / tensor(0.6595, device='cuda:0')\n",
      "zero tensor(0.2970, device='cuda:0') / tensor(1., device='cuda:0') / tensor(0.6580, device='cuda:0')\n",
      "SAITS 0.1317450985312462 +/- 0.0007521993712309375 / 0.44357359409332275 +/- 0.0025325938230718677 / 0.45556535124778746 +/- 0.0037330136215141447\n",
      "BRITS 0.13817179650068284 +/- 0.0007273374806953895 / 0.4652116984128952 +/- 0.0024488801004228264 / 0.4558850258588791 +/- 0.001058615201040269\n",
      "MRNN 0.1536129578948021 +/- 0.004476994229747861 / 0.5172006726264954 +/- 0.015073633915467875 / 0.4828182846307755 +/- 0.006551771879296376\n"
     ]
    }
   ],
   "source": [
    "print('All ICU: mae/mre/rmse')\n",
    "for k in eval_dic_all_icu.keys():\n",
    "    print(k, eval_dic_all_icu[k]['mae'],'/', eval_dic_all_icu[k]['mre'], '/', eval_dic_all_icu[k]['rmse'])"
   ],
   "metadata": {
    "collapsed": false,
    "pycharm": {
     "name": "#%%\n"
    }
   }
  },
  {
   "cell_type": "code",
   "execution_count": 22,
   "outputs": [],
   "source": [],
   "metadata": {
    "collapsed": false,
    "pycharm": {
     "name": "#%%\n"
    }
   }
  }
 ],
 "metadata": {
  "kernelspec": {
   "display_name": "Python 3",
   "language": "python",
   "name": "python3"
  },
  "language_info": {
   "codemirror_mode": {
    "name": "ipython",
    "version": 2
   },
   "file_extension": ".py",
   "mimetype": "text/x-python",
   "name": "python",
   "nbconvert_exporter": "python",
   "pygments_lexer": "ipython2",
   "version": "2.7.6"
  }
 },
 "nbformat": 4,
 "nbformat_minor": 0
}